{
 "cells": [
  {
   "attachments": {},
   "cell_type": "markdown",
   "metadata": {},
   "source": [
    "# Main"
   ]
  },
  {
   "attachments": {},
   "cell_type": "markdown",
   "metadata": {},
   "source": [
    "## Introductory Theory and Concepts"
   ]
  },
  {
   "attachments": {},
   "cell_type": "markdown",
   "metadata": {},
   "source": [
    "* Python is an Object Oriented Programming Language.\n",
    "\n",
    "* Python is a Multi-Paradigm program which includes (i) Object Oriented (ii)Imperative (iii) Functional\n",
    "\n",
    "Flavours of Python:\n",
    "\n",
    "1) CPython (our regular python)\n",
    "\n",
    "2) JPython (Python implemented on Java Virtual Machine)\n",
    "\n",
    "3) IronPython (targeting the .NET Framework, entirely written in C#)\n",
    "\n",
    "4) Pypy (Python Interpretor with JIT Compiler) - Python implemented in **restricted subset** of Python\n",
    "\n",
    "5) Stackless Python (Tasklets & Channels) \n",
    "\n",
    "6) Python(X,Y)\n",
    "\n"
   ]
  },
  {
   "attachments": {},
   "cell_type": "markdown",
   "metadata": {},
   "source": [
    "**Execute python using Frozen Binaries**\n",
    "\n",
    "*What are these frozen binaries?* With the help of some tools (py2exe, PyInstaller etc.), they bundle together [Byte Code + Interpretor + Required Libraries] & generate stand-alone Binary Executables called Frozen Binaries.\n",
    "\n",
    "*Eg:* py2exe can freeze stand-alone programs that use Tkinter/PMW/wxPython/PyGTK etc., GUI Libraries\n",
    "\n",
    "*Use?* Consumers need not install any packages & Development code kept Hidden from consumers"
   ]
  },
  {
   "attachments": {},
   "cell_type": "markdown",
   "metadata": {},
   "source": [
    "**IDLE:** Integrated Development & Learning Environment [Integrated DeveLopment Environment]\n",
    "\n",
    "*Eg:* PyCharm [suitable for web frameworks Django, Flask, web2py etc.], Jupyter [widely used], Spyder\n",
    "\n",
    "*Main Feature:* Debugger with persistent BreakPoints, Stepping & Viewing of GLOBAL and LOCAL namespaces."
   ]
  },
  {
   "attachments": {},
   "cell_type": "markdown",
   "metadata": {},
   "source": [
    "**DocStrings:** Convinient way of associating Documentation with Python Modules, Functions, Classes and Methods.\n",
    "\n",
    "It should describe *What the Function does...Not How*\n",
    "\n",
    "**Rule:**\n",
    "1) First Line - Short Description\n",
    "2) Second Line - Blank \n",
    "3) Next - one or more paragraphs describing the object's calling conventions, its side effects, etc.\n",
    "4) Declared using \"\"\"triple quotes\"\"\"\n",
    "5) All functions should have DocString\n"
   ]
  },
  {
   "cell_type": "code",
   "execution_count": 1,
   "metadata": {},
   "outputs": [
    {
     "name": "stdout",
     "output_type": "stream",
     "text": [
      "This is doc string: Automatically created module for IPython interactive environment\n"
     ]
    }
   ],
   "source": [
    "\"\"\"\n",
    "Short Description: This is a DocString.\n",
    "\n",
    "Summary: 1 or 2 paras HERE\n",
    "\"\"\"\n",
    "print(\"This is doc string:\", __doc__)"
   ]
  },
  {
   "attachments": {},
   "cell_type": "markdown",
   "metadata": {},
   "source": [
    "## Turtle graphics - Interactive Python programming "
   ]
  },
  {
   "attachments": {},
   "cell_type": "markdown",
   "metadata": {},
   "source": [
    "Enable the learning programmer to use all the commands, classes and methods interactively\n",
    "\n",
    "https://docs.python.org/3/library/turtle.html#module-turtle"
   ]
  },
  {
   "cell_type": "code",
   "execution_count": 2,
   "metadata": {},
   "outputs": [],
   "source": [
    "import turtle\n",
    "from turtle import *"
   ]
  },
  {
   "cell_type": "code",
   "execution_count": 3,
   "metadata": {},
   "outputs": [],
   "source": [
    "color('red', 'yellow')\n",
    "begin_fill()\n",
    "while True:\n",
    "    forward(200)\n",
    "    left(170)\n",
    "    if abs(pos()) < 1:\n",
    "        break\n",
    "end_fill()\n",
    "done()"
   ]
  },
  {
   "cell_type": "code",
   "execution_count": null,
   "metadata": {},
   "outputs": [],
   "source": []
  },
  {
   "attachments": {},
   "cell_type": "markdown",
   "metadata": {},
   "source": [
    "## I/O statements\n"
   ]
  },
  {
   "cell_type": "code",
   "execution_count": 15,
   "metadata": {},
   "outputs": [
    {
     "name": "stdout",
     "output_type": "stream",
     "text": [
      " Hello World!!!\n",
      "Hello World!!!\n",
      "Hello World!!!\n"
     ]
    }
   ],
   "source": [
    "# print statement to print HELLO WORLD!!!\n",
    "print(\" Hello World!!!\")\n",
    "# Formatting in PRINT statement\n",
    "print(\"{} {}{}\".format(\"Hello\",\"World\",\"!!!\")) # {} utilized as place_holders\n",
    "# Specify the order of place_holders\n",
    "print(\"{2} {0}{1}\".format(\"World\",\"!!!\",\"Hello\"))"
   ]
  },
  {
   "attachments": {},
   "cell_type": "markdown",
   "metadata": {},
   "source": [
    "Apart from just printing, one can also format the output to be printed using {:0wd} / {:0w.nf}"
   ]
  },
  {
   "cell_type": "code",
   "execution_count": 103,
   "metadata": {},
   "outputs": [
    {
     "name": "stdout",
     "output_type": "stream",
     "text": [
      "101\n",
      "101.123000\n",
      "bin 1100, oct 14, hex c\n",
      "  101\n",
      "101\n",
      "00101\n",
      "101.123450\n",
      "   101.12\n",
      "101.1234500000\n",
      "+101 0000000101 -000000101 -000000101\n",
      "101.123450\n",
      "******cat \n",
      " cat++++++ \n",
      " $$$cat$$$\n"
     ]
    }
   ],
   "source": [
    "# Number formatting\n",
    "print(\"{:d}\".format(101))\n",
    "print(\"{:f}\".format(101.123))\n",
    "# binary, octal and hexadecimal formats\n",
    "print(\"bin {0:b}, oct {0:o}, hex {0:x}\".format(12))\n",
    "# print(\"{:5d}\".format(00101)) # Leading zeros not applicable in python - gives Syntax Error\n",
    "# :wd w = base_width -- w should be > len(str(d)) to take effect\n",
    "print(\"{:5d}\".format(101)) \n",
    "# :0wd => padding with 0s for extra width\n",
    "print(\"{:2d}\".format(101))\n",
    "print(\"{:05d}\".format(101))\n",
    "print(\"{:7f}\".format(101.12345))\n",
    "# :n.wf => total n characters (digits) with w characters (digits) after decimal \n",
    "print(\"{:9.2f}\".format(101.12345))\n",
    "print(\"{:09.10f}\".format(101.12345))\n",
    "# sign operator\n",
    "print(\"{:+d} {:-010d} {:+010d} {:-010d}\".format(101,101, -101, -101))\n",
    "# alignment ??\n",
    "print(\"{:>02f}\".format(101.12345))\n",
    "print(\"{:*>9} \\n {:+<9} \\n {:$^9}\".format(\"cat\",\"cat\",\"cat\"))"
   ]
  },
  {
   "cell_type": "code",
   "execution_count": 122,
   "metadata": {},
   "outputs": [
    {
     "name": "stdout",
     "output_type": "stream",
     "text": [
      "Copyright (c) 2001-2023 Python Software Foundation.\n",
      "All Rights Reserved.\n",
      "\n",
      "Copyright (c) 2000 BeOpen.com.\n",
      "All Rights Reserved.\n",
      "\n",
      "Copyright (c) 1995-2001 Corporation for National Research Initiatives.\n",
      "All Rights Reserved.\n",
      "\n",
      "Copyright (c) 1991-1995 Stichting Mathematisch Centrum, Amsterdam.\n",
      "All Rights Reserved.\n",
      "3.10.11 (main, Apr 20 2023, 13:59:00) [Clang 14.0.6 ] \n",
      "\n",
      "sys.version_info(major=3, minor=10, micro=11, releaselevel='final', serial=0)\n",
      "darwin\n"
     ]
    }
   ],
   "source": [
    "# 'sys' library\n",
    "import sys\n",
    "print(sys.copyright)\n",
    "print(sys.version,'\\n')\n",
    "print(sys.version_info)\n",
    "print(sys.platform) # darwin => mac os // windows => win32 "
   ]
  },
  {
   "cell_type": "code",
   "execution_count": null,
   "metadata": {},
   "outputs": [],
   "source": []
  }
 ],
 "metadata": {
  "kernelspec": {
   "display_name": "Python 3",
   "language": "python",
   "name": "python3"
  },
  "language_info": {
   "codemirror_mode": {
    "name": "ipython",
    "version": 3
   },
   "file_extension": ".py",
   "mimetype": "text/x-python",
   "name": "python",
   "nbconvert_exporter": "python",
   "pygments_lexer": "ipython3",
   "version": "3.10.11"
  },
  "orig_nbformat": 4
 },
 "nbformat": 4,
 "nbformat_minor": 2
}
